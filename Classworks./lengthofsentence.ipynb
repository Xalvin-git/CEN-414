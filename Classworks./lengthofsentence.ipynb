{
 "cells": [
  {
   "cell_type": "code",
   "execution_count": null,
   "metadata": {},
   "outputs": [],
   "source": [
    "sentences = [\"I am not a boy\",\"I am not a girl\",\"I am not a man\",\"I am not a woman\"]\n",
    "\n",
    "for i in sentences:\n",
    "    length = 0\n",
    "    word_length = 1\n",
    "    for j in i:\n",
    "        length += 1\n",
    "        if (j.isalnum() and  not(i[length-2].isalnum())):\n",
    "            word_length += 1\n",
    "    print(i, '\\nLength: ', length, '\\nWord Length: ', word_length)\n",
    "\n"
   ]
  },
  {
   "cell_type": "markdown",
   "metadata": {},
   "source": [
    "I am not a boy \n",
    "Length:  14 \n",
    "Word Length:  5\n",
    "I am not a girl \n",
    "Length:  15 \n",
    "Word Length:  5\n",
    "I am not a man \n",
    "Length:  14 \n",
    "Word Length:  5\n",
    "I am not a woman \n",
    "Length:  16 \n",
    "Word Length:  5"
   ]
  }
 ],
 "metadata": {
  "language_info": {
   "name": "python"
  },
  "orig_nbformat": 4
 },
 "nbformat": 4,
 "nbformat_minor": 2
}
