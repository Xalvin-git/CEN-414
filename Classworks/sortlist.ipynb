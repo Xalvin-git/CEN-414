{
 "cells": [
  {
   "cell_type": "code",
   "execution_count": 1,
   "id": "9f544731-0825-405f-93a3-19c2bf85506e",
   "metadata": {},
   "outputs": [
    {
     "name": "stdout",
     "output_type": "stream",
     "text": [
      "['dog', 'cat', 'elephant', 'zebra', 'bee', 'fish', 'dolphin']\n"
     ]
    }
   ],
   "source": [
    "myList = [\"dog\",\"cat\",\"elephant\",\"zebra\",\"bee\",\"fish\",\"dolphin\"]\n",
    "print(myList)"
   ]
  },
  {
   "cell_type": "code",
   "execution_count": 2,
   "id": "9919615a-9251-4b72-89cd-d669c9f16383",
   "metadata": {},
   "outputs": [
    {
     "name": "stdout",
     "output_type": "stream",
     "text": [
      "['bee', 'cat', 'dog', 'dolphin', 'elephant', 'fish', 'zebra']\n"
     ]
    }
   ],
   "source": [
    "myList.sort()\n",
    "print(myList)"
   ]
  },
  {
   "cell_type": "code",
   "execution_count": 3,
   "id": "c1f7628a-0194-43c3-8de5-2fa18d1cd732",
   "metadata": {},
   "outputs": [
    {
     "name": "stdout",
     "output_type": "stream",
     "text": [
      "['zebra', 'fish', 'elephant', 'dolphin', 'dog', 'cat', 'bee']\n"
     ]
    }
   ],
   "source": [
    "myList.sort(reverse=True)\n",
    "print(myList)"
   ]
  },
  {
   "cell_type": "code",
   "execution_count": null,
   "id": "c44100a5-1587-47cd-a6eb-0258d16aa18f",
   "metadata": {},
   "outputs": [],
   "source": []
  }
 ],
 "metadata": {
  "kernelspec": {
   "display_name": "Python 3 (ipykernel)",
   "language": "python",
   "name": "python3"
  },
  "language_info": {
   "codemirror_mode": {
    "name": "ipython",
    "version": 3
   },
   "file_extension": ".py",
   "mimetype": "text/x-python",
   "name": "python",
   "nbconvert_exporter": "python",
   "pygments_lexer": "ipython3",
   "version": "3.10.7"
  }
 },
 "nbformat": 4,
 "nbformat_minor": 5
}
