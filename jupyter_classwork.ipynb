{
 "cells": [
  {
   "cell_type": "code",
   "execution_count": 1,
   "id": "3be273d3-1b39-4b8a-801e-df20dc410a13",
   "metadata": {},
   "outputs": [
    {
     "name": "stdout",
     "output_type": "stream",
     "text": [
      "Fisho Pelumi Alvin, 19CJ025791\n"
     ]
    }
   ],
   "source": [
    "print(\"Fisho Pelumi Alvin, 19CJ025791\")"
   ]
  },
  {
   "cell_type": "code",
   "execution_count": 5,
   "id": "a679d4d4-8805-4ece-b0cd-8d8ba3d99212",
   "metadata": {
    "tags": []
   },
   "outputs": [
    {
     "name": "stdout",
     "output_type": "stream",
     "text": [
      "The number of students is 82\n"
     ]
    }
   ],
   "source": [
    "x = 56\n",
    "y = 26\n",
    "\n",
    "print (\"The number of students is\", x+y)\n"
   ]
  },
  {
   "cell_type": "code",
   "execution_count": 8,
   "id": "cef28ae6-1f55-4469-b6e5-abe981823282",
   "metadata": {},
   "outputs": [
    {
     "name": "stdout",
     "output_type": "stream",
     "text": [
      "Python is more friendly than most \n"
     ]
    }
   ],
   "source": [
    "#This is an attempt at Using Jupyter lab \n",
    "\n",
    "print(\"Python is more friendly than most \")"
   ]
  },
  {
   "cell_type": "code",
   "execution_count": 9,
   "id": "a1233968-92a9-44b7-bd71-a4ea24f345b9",
   "metadata": {},
   "outputs": [
    {
     "name": "stdout",
     "output_type": "stream",
     "text": [
      "Number is not up to standard\n"
     ]
    }
   ],
   "source": [
    "x = 10\n",
    "if 7>x:\n",
    "    print(\"7 is large\")\n",
    "    \n",
    "else:\n",
    "    print(\"Number is not up to standard\")"
   ]
  },
  {
   "cell_type": "code",
   "execution_count": 10,
   "id": "d82d7f92-0afb-48ae-9206-0f7bd175eef5",
   "metadata": {},
   "outputs": [
    {
     "name": "stdout",
     "output_type": "stream",
     "text": [
      "Hello World Learn a language today\n"
     ]
    }
   ],
   "source": [
    "M = \"Hello World\"\n",
    "N = \"Learn a language today\"\n",
    "\n",
    "print(M,N)\n"
   ]
  },
  {
   "cell_type": "code",
   "execution_count": null,
   "id": "bb5f2fb5-9451-4bf3-8d76-db2bb6e21900",
   "metadata": {},
   "outputs": [],
   "source": []
  }
 ],
 "metadata": {
  "kernelspec": {
   "display_name": "Python 3 (ipykernel)",
   "language": "python",
   "name": "python3"
  },
  "language_info": {
   "codemirror_mode": {
    "name": "ipython",
    "version": 3
   },
   "file_extension": ".py",
   "mimetype": "text/x-python",
   "name": "python",
   "nbconvert_exporter": "python",
   "pygments_lexer": "ipython3",
   "version": "3.10.7"
  }
 },
 "nbformat": 4,
 "nbformat_minor": 5
}
